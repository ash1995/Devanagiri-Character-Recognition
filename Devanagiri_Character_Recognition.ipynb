{
 "cells": [
  {
   "cell_type": "markdown",
   "metadata": {},
   "source": [
    "## Devanagiri Character Recognition using Convolutional Neural Networks"
   ]
  },
  {
   "cell_type": "markdown",
   "metadata": {},
   "source": [
    "### Devangiri Characters\t\t\n",
    "\n",
    "\n",
    "<table>\n",
    "<tr><th><th>Consonants<th><th>Digits</th></tr>\n",
    "<tr><td>\n",
    "\n",
    "| Character \t| Label        \t| Class \t|\n",
    "|-----------\t|--------------\t|-------\t|\n",
    "| क         \t| ka           \t| 0     \t|\n",
    "| ख         \t| kha          \t| 1     \t|\n",
    "| ग         \t| ga           \t| 2     \t|\n",
    "| घ         \t| gha          \t| 3     \t|\n",
    "| ङ         \t| kna          \t| 4     \t|\n",
    "| च         \t| cha          \t| 5     \t|\n",
    "| छ         \t| chha         \t| 6     \t|\n",
    "| ज         \t| ja           \t| 7     \t|\n",
    "| झ         \t| jha          \t| 8     \t|\n",
    "| ञ         \t| yna          \t| 9     \t|\n",
    "| ट         \t| ta           \t| 10    \t|\n",
    "| ठ         \t| tha          \t| 11    \t|\n",
    "\n",
    "</td><td>\n",
    "\n",
    "| Character \t| Label        \t| Class \t|\n",
    "|-----------\t|--------------\t|-------\t|\n",
    "| ड         \t| da           \t| 12    \t|\n",
    "| ढ         \t| dha          \t| 13    \t|\n",
    "| ण         \t| ana          \t| 14    \t|\n",
    "| त         \t| taa          \t| 15    \t|\n",
    "| थ         \t| thaa         \t| 16    \t|\n",
    "| द         \t| daa          \t| 17    \t|\n",
    "| ध         \t| dhaa         \t| 18    \t|\n",
    "| न         \t| na           \t| 19    \t|\n",
    "| प         \t| pa           \t| 20    \t|\n",
    "| फ         \t| pha          \t| 21    \t|\n",
    "| ब         \t| ba           \t| 22    \t|\n",
    "| भ         \t| bha          \t| 23    \t|\n",
    "\n",
    "</td><td>\n",
    "    \n",
    "| Character \t| Label        \t| Class \t|\n",
    "|-----------\t|--------------\t|-------\t|\n",
    "| म         \t| ma           \t| 24    \t|\n",
    "| य         \t| ya           \t| 25    \t|\n",
    "| र         \t| ra           \t| 26    \t|\n",
    "| ल         \t| la           \t| 27    \t|\n",
    "| व         \t| va           \t| 28    \t|\n",
    "| श         \t| motosaw      \t| 29    \t|\n",
    "| ष         \t| petchiryosaw \t| 30    \t|\n",
    "| स         \t| patalosaw    \t| 31    \t|\n",
    "| ह         \t| ha           \t| 32    \t|\n",
    "| क्ष        \t| ksha         \t| 33    \t|\n",
    "| त्र        \t| tra          \t| 34    \t|\n",
    "| ज्ञ        \t| gya          \t| 35    \t|\n",
    "\n",
    "</td><td>\n",
    "    \n",
    "| Character \t| Label        \t| Class \t|\n",
    "|-----------\t|--------------\t|-------\t|\n",
    "| ०         \t| 0            \t| 36    \t|\n",
    "| १         \t| 1            \t| 37    \t|\n",
    "| २         \t| 2            \t| 38    \t|\n",
    "| ३         \t| 3            \t| 39    \t|\n",
    "| ४         \t| 4            \t| 40    \t|\n",
    "| ५         \t| 5            \t| 41    \t|\n",
    "| ६         \t| 6            \t| 42    \t|\n",
    "| ७         \t| 7            \t| 43    \t|\n",
    "| ८         \t| 8            \t| 44    \t|\n",
    "| ९         \t| 9            \t| 45    \t|\n",
    "\n",
    "</td></tr> </table>\n"
   ]
  },
  {
   "cell_type": "code",
   "execution_count": 98,
   "metadata": {},
   "outputs": [],
   "source": [
    "devchar = {0: \"क\",\n",
    "           1: \"ख\",\n",
    "           2:\"ग\",\n",
    "           3:\"घ\",\n",
    "           4:\"ङ\",\n",
    "           5:\"च\",\n",
    "           6:\"छ\",\n",
    "           7:\"ज\",\n",
    "           8:\"झ\",\n",
    "           9:\"ञ\",\n",
    "           10:\"ट\",\n",
    "           11:\"ठ\",\n",
    "           12:\"ड\",\n",
    "           13:\"ढ\",\n",
    "           14:\"ण\",\n",
    "           15:\"त\",\n",
    "           16:\"थ\",\n",
    "           17:\"द\",\n",
    "           18:\"ध\",\n",
    "           19:\"न\",\n",
    "           20:\"प\",\n",
    "           21:\"फ\",\n",
    "           22:\"ब\",\n",
    "           23:\"भ\",\n",
    "           24:\"म\",\n",
    "           25:\"य\",\n",
    "           26:\"र\",\n",
    "           27:\"ल\",\n",
    "           28:\"व\",\n",
    "           29:\"श\",\n",
    "           30:\"ष\",\n",
    "           31:\"स\",\n",
    "           32:\"ह\",\n",
    "           33:\"क्ष\",\n",
    "           34:\"त्र\",\n",
    "           35:\"ज्ञ\",\n",
    "           36:\"०\",\n",
    "           37:\"१\",\n",
    "           38:\"२\",\n",
    "           39:\"३\",\n",
    "           40:\"४\",\n",
    "           41:\"५\",\n",
    "           42:\"६\",\n",
    "           43:\"७\",\n",
    "           44:\"८\",\n",
    "           45:\"९\",}"
   ]
  },
  {
   "cell_type": "code",
   "execution_count": 1,
   "metadata": {},
   "outputs": [],
   "source": [
    "import numpy as np\n",
    "import tensorflow as tf\n",
    "import pandas as pd\n",
    "import matplotlib.pyplot as plt\n",
    "import matplotlib.image as mpimg\n",
    "\n",
    "import os\n",
    "import re\n",
    "from PIL import Image as PImage\n",
    "\n",
    "from datetime import datetime\n",
    "from sklearn.utils import shuffle\n",
    "from sklearn.model_selection import train_test_split"
   ]
  },
  {
   "cell_type": "code",
   "execution_count": 57,
   "metadata": {},
   "outputs": [],
   "source": [
    "def y2indicator(Y):\n",
    "    N = len(Y)\n",
    "    K = len(set(Y))\n",
    "    Y_ind = np.zeros((N,K))\n",
    "    for i in range(N):\n",
    "        Y_ind[i,Y[i]] = 1\n",
    "    return Y_ind\n",
    "\n",
    "def error_rate(targets,predictions):\n",
    "    return np.mean(targets != predictions)\n",
    "\n",
    "def convpool(X,W,b):\n",
    "    conv_out = tf.nn.conv2d(X, W, strides = [1,1,1,1], padding = 'VALID')\n",
    "    conv_out = tf.nn.bias_add(conv_out, bias = b)\n",
    "    pool_out = tf.nn.max_pool(conv_out, ksize = [1,2,2,1], strides= [1,2,2,1], padding='VALID')\n",
    "    return tf.nn.relu(pool_out)\n",
    "\n",
    "def init_filter(shape):\n",
    "    W = np.random.randn(*shape) * np.sqrt(2.0 / np.prod(shape[:-1]))\n",
    "    return W.astype(np.float32)\n",
    "\n",
    "def init_weight_and_bias(M1,M2):\n",
    "    W = np.random.randn(M1, M2) / np.sqrt(M1 + M2)\n",
    "    b = np.zeros(M2)\n",
    "    return W.astype(np.float32), b.astype(np.float32)"
   ]
  },
  {
   "cell_type": "markdown",
   "metadata": {},
   "source": [
    "### About the dataset"
   ]
  },
  {
   "cell_type": "markdown",
   "metadata": {},
   "source": [
    "There are 46 classes of characters with 1700 examples each. The dataset is split into training set (85% - 78200 samples) and testing set (15% - 13800 samples)."
   ]
  },
  {
   "cell_type": "code",
   "execution_count": 3,
   "metadata": {},
   "outputs": [
    {
     "data": {
      "image/png": "[encoded data removed]",
      "text/plain": [
       "<Figure size 432x288 with 1 Axes>"
      ]
     },
     "metadata": {},
     "output_type": "display_data"
    }
   ],
   "source": [
    "img = mpimg.imread(\"../large_files/Devanagiri/DevanagariHandwrittenCharacterDataset/Train/character_1_ka/1340.png\")\n",
    "plt.imshow(img)\n",
    "plt.show()"
   ]
  },
  {
   "cell_type": "code",
   "execution_count": 4,
   "metadata": {},
   "outputs": [
    {
     "data": {
      "text/plain": [
       "(32, 32)"
      ]
     },
     "execution_count": 4,
     "metadata": {},
     "output_type": "execute_result"
    }
   ],
   "source": [
    "img.shape"
   ]
  },
  {
   "cell_type": "code",
   "execution_count": 5,
   "metadata": {},
   "outputs": [],
   "source": [
    "x = img.reshape((img.shape[0],img.shape[1],1))"
   ]
  },
  {
   "cell_type": "code",
   "execution_count": 6,
   "metadata": {},
   "outputs": [
    {
     "data": {
      "text/plain": [
       "(32, 32, 1)"
      ]
     },
     "execution_count": 6,
     "metadata": {},
     "output_type": "execute_result"
    }
   ],
   "source": [
    "x.shape"
   ]
  },
  {
   "cell_type": "markdown",
   "metadata": {},
   "source": [
    "### Data Pre-processing"
   ]
  },
  {
   "cell_type": "markdown",
   "metadata": {},
   "source": [
    "Note: Only run the **Data Preprocessing** section once to generate and save the processed training (Xtrain, Ytrain) and test (Xtest, Ytest) *.npy* files."
   ]
  },
  {
   "cell_type": "markdown",
   "metadata": {},
   "source": [
    "#### Load Images as numpy arrays"
   ]
  },
  {
   "cell_type": "code",
   "execution_count": 7,
   "metadata": {
    "scrolled": true
   },
   "outputs": [
    {
     "name": "stdout",
     "output_type": "stream",
     "text": [
      "Extracting characters from  ../large_files/Devanagiri/DevanagariHandwrittenCharacterDataset/Train/character_1_ka/\n",
      "Extracting characters from  ../large_files/Devanagiri/DevanagariHandwrittenCharacterDataset/Train/character_2_kha/\n",
      "Extracting characters from  ../large_files/Devanagiri/DevanagariHandwrittenCharacterDataset/Train/character_3_ga/\n",
      "Extracting characters from  ../large_files/Devanagiri/DevanagariHandwrittenCharacterDataset/Train/character_4_gha/\n",
      "Extracting characters from  ../large_files/Devanagiri/DevanagariHandwrittenCharacterDataset/Train/character_5_kna/\n",
      "Extracting characters from  ../large_files/Devanagiri/DevanagariHandwrittenCharacterDataset/Train/character_6_cha/\n",
      "Extracting characters from  ../large_files/Devanagiri/DevanagariHandwrittenCharacterDataset/Train/character_7_chha/\n",
      "Extracting characters from  ../large_files/Devanagiri/DevanagariHandwrittenCharacterDataset/Train/character_8_ja/\n",
      "Extracting characters from  ../large_files/Devanagiri/DevanagariHandwrittenCharacterDataset/Train/character_9_jha/\n",
      "Extracting characters from  ../large_files/Devanagiri/DevanagariHandwrittenCharacterDataset/Train/character_10_yna/\n",
      "Extracting characters from  ../large_files/Devanagiri/DevanagariHandwrittenCharacterDataset/Train/character_11_taamatar/\n",
      "Extracting characters from  ../large_files/Devanagiri/DevanagariHandwrittenCharacterDataset/Train/character_12_thaa/\n",
      "Extracting characters from  ../large_files/Devanagiri/DevanagariHandwrittenCharacterDataset/Train/character_13_daa/\n",
      "Extracting characters from  ../large_files/Devanagiri/DevanagariHandwrittenCharacterDataset/Train/character_14_dhaa/\n",
      "Extracting characters from  ../large_files/Devanagiri/DevanagariHandwrittenCharacterDataset/Train/character_15_adna/\n",
      "Extracting characters from  ../large_files/Devanagiri/DevanagariHandwrittenCharacterDataset/Train/character_16_tabala/\n",
      "Extracting characters from  ../large_files/Devanagiri/DevanagariHandwrittenCharacterDataset/Train/character_17_tha/\n",
      "Extracting characters from  ../large_files/Devanagiri/DevanagariHandwrittenCharacterDataset/Train/character_18_da/\n",
      "Extracting characters from  ../large_files/Devanagiri/DevanagariHandwrittenCharacterDataset/Train/character_19_dha/\n",
      "Extracting characters from  ../large_files/Devanagiri/DevanagariHandwrittenCharacterDataset/Train/character_20_na/\n",
      "Extracting characters from  ../large_files/Devanagiri/DevanagariHandwrittenCharacterDataset/Train/character_21_pa/\n",
      "Extracting characters from  ../large_files/Devanagiri/DevanagariHandwrittenCharacterDataset/Train/character_22_pha/\n",
      "Extracting characters from  ../large_files/Devanagiri/DevanagariHandwrittenCharacterDataset/Train/character_23_ba/\n",
      "Extracting characters from  ../large_files/Devanagiri/DevanagariHandwrittenCharacterDataset/Train/character_24_bha/\n",
      "Extracting characters from  ../large_files/Devanagiri/DevanagariHandwrittenCharacterDataset/Train/character_25_ma/\n",
      "Extracting characters from  ../large_files/Devanagiri/DevanagariHandwrittenCharacterDataset/Train/character_26_yaw/\n",
      "Extracting characters from  ../large_files/Devanagiri/DevanagariHandwrittenCharacterDataset/Train/character_27_ra/\n",
      "Extracting characters from  ../large_files/Devanagiri/DevanagariHandwrittenCharacterDataset/Train/character_28_la/\n",
      "Extracting characters from  ../large_files/Devanagiri/DevanagariHandwrittenCharacterDataset/Train/character_29_waw/\n",
      "Extracting characters from  ../large_files/Devanagiri/DevanagariHandwrittenCharacterDataset/Train/character_30_motosaw/\n",
      "Extracting characters from  ../large_files/Devanagiri/DevanagariHandwrittenCharacterDataset/Train/character_31_petchiryakha/\n",
      "Extracting characters from  ../large_files/Devanagiri/DevanagariHandwrittenCharacterDataset/Train/character_32_patalosaw/\n",
      "Extracting characters from  ../large_files/Devanagiri/DevanagariHandwrittenCharacterDataset/Train/character_33_ha/\n",
      "Extracting characters from  ../large_files/Devanagiri/DevanagariHandwrittenCharacterDataset/Train/character_34_chhya/\n",
      "Extracting characters from  ../large_files/Devanagiri/DevanagariHandwrittenCharacterDataset/Train/character_35_tra/\n",
      "Extracting characters from  ../large_files/Devanagiri/DevanagariHandwrittenCharacterDataset/Train/character_36_gya/\n",
      "Extracting characters from  ../large_files/Devanagiri/DevanagariHandwrittenCharacterDataset/Train/digit_0/\n",
      "Extracting characters from  ../large_files/Devanagiri/DevanagariHandwrittenCharacterDataset/Train/digit_1/\n",
      "Extracting characters from  ../large_files/Devanagiri/DevanagariHandwrittenCharacterDataset/Train/digit_2/\n",
      "Extracting characters from  ../large_files/Devanagiri/DevanagariHandwrittenCharacterDataset/Train/digit_3/\n",
      "Extracting characters from  ../large_files/Devanagiri/DevanagariHandwrittenCharacterDataset/Train/digit_4/\n",
      "Extracting characters from  ../large_files/Devanagiri/DevanagariHandwrittenCharacterDataset/Train/digit_5/\n",
      "Extracting characters from  ../large_files/Devanagiri/DevanagariHandwrittenCharacterDataset/Train/digit_6/\n",
      "Extracting characters from  ../large_files/Devanagiri/DevanagariHandwrittenCharacterDataset/Train/digit_7/\n",
      "Extracting characters from  ../large_files/Devanagiri/DevanagariHandwrittenCharacterDataset/Train/digit_8/\n",
      "Extracting characters from  ../large_files/Devanagiri/DevanagariHandwrittenCharacterDataset/Train/digit_9/\n",
      "\n",
      "\n",
      "Extracting characters from  ../large_files/Devanagiri/DevanagariHandwrittenCharacterDataset/Test/character_1_ka/\n",
      "Extracting characters from  ../large_files/Devanagiri/DevanagariHandwrittenCharacterDataset/Test/character_2_kha/\n",
      "Extracting characters from  ../large_files/Devanagiri/DevanagariHandwrittenCharacterDataset/Test/character_3_ga/\n",
      "Extracting characters from  ../large_files/Devanagiri/DevanagariHandwrittenCharacterDataset/Test/character_4_gha/\n",
      "Extracting characters from  ../large_files/Devanagiri/DevanagariHandwrittenCharacterDataset/Test/character_5_kna/\n",
      "Extracting characters from  ../large_files/Devanagiri/DevanagariHandwrittenCharacterDataset/Test/character_6_cha/\n",
      "Extracting characters from  ../large_files/Devanagiri/DevanagariHandwrittenCharacterDataset/Test/character_7_chha/\n",
      "Extracting characters from  ../large_files/Devanagiri/DevanagariHandwrittenCharacterDataset/Test/character_8_ja/\n",
      "Extracting characters from  ../large_files/Devanagiri/DevanagariHandwrittenCharacterDataset/Test/character_9_jha/\n",
      "Extracting characters from  ../large_files/Devanagiri/DevanagariHandwrittenCharacterDataset/Test/character_10_yna/\n",
      "Extracting characters from  ../large_files/Devanagiri/DevanagariHandwrittenCharacterDataset/Test/character_11_taamatar/\n",
      "Extracting characters from  ../large_files/Devanagiri/DevanagariHandwrittenCharacterDataset/Test/character_12_thaa/\n",
      "Extracting characters from  ../large_files/Devanagiri/DevanagariHandwrittenCharacterDataset/Test/character_13_daa/\n",
      "Extracting characters from  ../large_files/Devanagiri/DevanagariHandwrittenCharacterDataset/Test/character_14_dhaa/\n",
      "Extracting characters from  ../large_files/Devanagiri/DevanagariHandwrittenCharacterDataset/Test/character_15_adna/\n",
      "Extracting characters from  ../large_files/Devanagiri/DevanagariHandwrittenCharacterDataset/Test/character_16_tabala/\n",
      "Extracting characters from  ../large_files/Devanagiri/DevanagariHandwrittenCharacterDataset/Test/character_17_tha/\n",
      "Extracting characters from  ../large_files/Devanagiri/DevanagariHandwrittenCharacterDataset/Test/character_18_da/\n",
      "Extracting characters from  ../large_files/Devanagiri/DevanagariHandwrittenCharacterDataset/Test/character_19_dha/\n",
      "Extracting characters from  ../large_files/Devanagiri/DevanagariHandwrittenCharacterDataset/Test/character_20_na/\n",
      "Extracting characters from  ../large_files/Devanagiri/DevanagariHandwrittenCharacterDataset/Test/character_21_pa/\n",
      "Extracting characters from  ../large_files/Devanagiri/DevanagariHandwrittenCharacterDataset/Test/character_22_pha/\n",
      "Extracting characters from  ../large_files/Devanagiri/DevanagariHandwrittenCharacterDataset/Test/character_23_ba/\n",
      "Extracting characters from  ../large_files/Devanagiri/DevanagariHandwrittenCharacterDataset/Test/character_24_bha/\n",
      "Extracting characters from  ../large_files/Devanagiri/DevanagariHandwrittenCharacterDataset/Test/character_25_ma/\n",
      "Extracting characters from  ../large_files/Devanagiri/DevanagariHandwrittenCharacterDataset/Test/character_26_yaw/\n"
     ]
    },
    {
     "name": "stdout",
     "output_type": "stream",
     "text": [
      "Extracting characters from  ../large_files/Devanagiri/DevanagariHandwrittenCharacterDataset/Test/character_27_ra/\n",
      "Extracting characters from  ../large_files/Devanagiri/DevanagariHandwrittenCharacterDataset/Test/character_28_la/\n",
      "Extracting characters from  ../large_files/Devanagiri/DevanagariHandwrittenCharacterDataset/Test/character_29_waw/\n",
      "Extracting characters from  ../large_files/Devanagiri/DevanagariHandwrittenCharacterDataset/Test/character_30_motosaw/\n",
      "Extracting characters from  ../large_files/Devanagiri/DevanagariHandwrittenCharacterDataset/Test/character_31_petchiryakha/\n",
      "Extracting characters from  ../large_files/Devanagiri/DevanagariHandwrittenCharacterDataset/Test/character_32_patalosaw/\n",
      "Extracting characters from  ../large_files/Devanagiri/DevanagariHandwrittenCharacterDataset/Test/character_33_ha/\n",
      "Extracting characters from  ../large_files/Devanagiri/DevanagariHandwrittenCharacterDataset/Test/character_34_chhya/\n",
      "Extracting characters from  ../large_files/Devanagiri/DevanagariHandwrittenCharacterDataset/Test/character_35_tra/\n",
      "Extracting characters from  ../large_files/Devanagiri/DevanagariHandwrittenCharacterDataset/Test/character_36_gya/\n",
      "Extracting characters from  ../large_files/Devanagiri/DevanagariHandwrittenCharacterDataset/Test/digit_0/\n",
      "Extracting characters from  ../large_files/Devanagiri/DevanagariHandwrittenCharacterDataset/Test/digit_1/\n",
      "Extracting characters from  ../large_files/Devanagiri/DevanagariHandwrittenCharacterDataset/Test/digit_2/\n",
      "Extracting characters from  ../large_files/Devanagiri/DevanagariHandwrittenCharacterDataset/Test/digit_3/\n",
      "Extracting characters from  ../large_files/Devanagiri/DevanagariHandwrittenCharacterDataset/Test/digit_4/\n",
      "Extracting characters from  ../large_files/Devanagiri/DevanagariHandwrittenCharacterDataset/Test/digit_5/\n",
      "Extracting characters from  ../large_files/Devanagiri/DevanagariHandwrittenCharacterDataset/Test/digit_6/\n",
      "Extracting characters from  ../large_files/Devanagiri/DevanagariHandwrittenCharacterDataset/Test/digit_7/\n",
      "Extracting characters from  ../large_files/Devanagiri/DevanagariHandwrittenCharacterDataset/Test/digit_8/\n",
      "Extracting characters from  ../large_files/Devanagiri/DevanagariHandwrittenCharacterDataset/Test/digit_9/\n"
     ]
    }
   ],
   "source": [
    "# For sorting alphabetically\n",
    "def atoi(text):\n",
    "    return int(text) if text.isdigit() else text\n",
    "\n",
    "def natural_keys(text):\n",
    "    return [ atoi(c) for c in re.split('(\\d+)', text) ]\n",
    "\n",
    "def loadImages(path):\n",
    "    # return array of images\n",
    "    imagesList = os.listdir(path)\n",
    "    loadedImages = []\n",
    "    for image in imagesList:\n",
    "        \n",
    "        with PImage.open(path + image) as img:\n",
    "            img = np.array(img)\n",
    "            img = img.reshape((img.shape[0],img.shape[1],1))\n",
    "            loadedImages.append(img)\n",
    "\n",
    "    return loadedImages\n",
    "\n",
    "def show_image(image):\n",
    "    # Plots image\n",
    "    assert len(image.shape) == 3, \"Image passed in is of incorrect shape\"\n",
    "    plt.imshow(image.squeeze())\n",
    "    plt.show()\n",
    "\n",
    "\n",
    "traindir = \"../large_files/Devanagiri/DevanagariHandwrittenCharacterDataset/Train/\"\n",
    "testdir = \"../large_files/Devanagiri/DevanagariHandwrittenCharacterDataset/Test/\"\n",
    "\n",
    "# Get all subdirs of train dir\n",
    "train_subdirs = [traindir + i + '/' for i in os.listdir(traindir)]\n",
    "train_subdirs.sort(key=natural_keys) # Sorting character folder names by their number via Human/Natural Sorting\n",
    "\n",
    "# Get all subdirs of test dir\n",
    "test_subdirs = [testdir + i + '/' for i in os.listdir(testdir)]\n",
    "test_subdirs.sort(key=natural_keys) # Sorting character folder names by their number via Human/Natural Sorting\n",
    "\n",
    "train_images = []\n",
    "test_images = []\n",
    "\n",
    "for path in train_subdirs:\n",
    "    print(\"Extracting characters from \",path)\n",
    "    tr_imgs = loadImages(path)\n",
    "    train_images.append(tr_imgs)\n",
    "\n",
    "print(\"\\n\")\n",
    "    \n",
    "for path in test_subdirs:\n",
    "    print(\"Extracting characters from \",path)\n",
    "    te_imgs = loadImages(path)\n",
    "    test_images.append(te_imgs)\n"
   ]
  },
  {
   "cell_type": "markdown",
   "metadata": {},
   "source": [
    "Now we have the array images which is a 2D list that contains the 1700 unique writings of the 46 Devanagiri characters. Each of the 1700 images has been reshaped from its original 32 x 32 size to a numpy array of size 32 x 32 x 1 where 1 represents the number of colour channels. The 1 here indicates it's a greyscale image.\n",
    "\n",
    "images - Characters - list <br>\n",
    "images[i] - Handwritings per character - list <br>\n",
    "images[i][j] - Image of handwriting - numpy array <br>"
   ]
  },
  {
   "cell_type": "code",
   "execution_count": 8,
   "metadata": {},
   "outputs": [
    {
     "name": "stdout",
     "output_type": "stream",
     "text": [
      "46\n",
      "46\n"
     ]
    }
   ],
   "source": [
    "print(len(train_images))\n",
    "print(len(test_images))"
   ]
  },
  {
   "cell_type": "code",
   "execution_count": 9,
   "metadata": {},
   "outputs": [
    {
     "name": "stdout",
     "output_type": "stream",
     "text": [
      "1700\n",
      "300\n"
     ]
    }
   ],
   "source": [
    "print(len(train_images[0]))\n",
    "print(len(test_images[0]))"
   ]
  },
  {
   "cell_type": "code",
   "execution_count": 10,
   "metadata": {},
   "outputs": [
    {
     "name": "stdout",
     "output_type": "stream",
     "text": [
      "<class 'numpy.ndarray'>\n",
      "<class 'numpy.ndarray'>\n"
     ]
    }
   ],
   "source": [
    "print(type(train_images[0][0]))\n",
    "print(type(test_images[0][0]))"
   ]
  },
  {
   "cell_type": "code",
   "execution_count": 11,
   "metadata": {},
   "outputs": [
    {
     "name": "stdout",
     "output_type": "stream",
     "text": [
      "(32, 32, 1)\n",
      "(32, 32, 1)\n"
     ]
    }
   ],
   "source": [
    "print(train_images[0][0].shape)\n",
    "print(test_images[0][0].shape)"
   ]
  },
  {
   "cell_type": "markdown",
   "metadata": {},
   "source": [
    "#### Make Labels"
   ]
  },
  {
   "cell_type": "code",
   "execution_count": 15,
   "metadata": {},
   "outputs": [],
   "source": [
    "Ytrain = []\n",
    "for i in range(len(train_images)):\n",
    "    for j in range(len(train_images[i])):\n",
    "        Ytrain.append(i)\n",
    "Ytrain = np.array(Ytrain)\n",
    "    \n",
    "\n",
    "Ytest = []\n",
    "for i in range(len(test_images)):\n",
    "    for j in range(len(test_images[i])):\n",
    "        Ytest.append(i)\n",
    "Ytest = np.array(Ytest)"
   ]
  },
  {
   "cell_type": "markdown",
   "metadata": {},
   "source": [
    "#### Concatenate data"
   ]
  },
  {
   "cell_type": "code",
   "execution_count": 19,
   "metadata": {},
   "outputs": [],
   "source": [
    "Xtrain = []\n",
    "for i in range(len(train_images)):\n",
    "    for j in range(len(train_images[i])):\n",
    "        Xtrain.append(train_images[i][j])\n",
    "Xtrain = np.array(Xtrain)\n",
    "\n",
    "Xtest = []\n",
    "for i in range(len(train_images)):\n",
    "    for j in range(len(test_images[i])):\n",
    "        Xtest.append(test_images[i][j])\n",
    "Xtest = np.array(Xtest)"
   ]
  },
  {
   "cell_type": "code",
   "execution_count": 20,
   "metadata": {},
   "outputs": [
    {
     "name": "stdout",
     "output_type": "stream",
     "text": [
      "Shape of Xtrain =  (78200, 32, 32, 1)\n",
      "Shape of Xtest =  (13800, 32, 32, 1)\n",
      "Shape of Ytrain =  (78200,)\n",
      "Shape of Ytest =  (13800,)\n"
     ]
    }
   ],
   "source": [
    "print(\"Shape of Xtrain = \",Xtrain.shape)\n",
    "print(\"Shape of Xtest = \",Xtest.shape)\n",
    "print(\"Shape of Ytrain = \",Ytrain.shape)\n",
    "print(\"Shape of Ytest = \",Ytest.shape)"
   ]
  },
  {
   "cell_type": "code",
   "execution_count": 30,
   "metadata": {},
   "outputs": [],
   "source": [
    "# Normalise Data\n",
    "Xtrain = Xtrain / 255\n",
    "Xtest = Xtest / 255"
   ]
  },
  {
   "cell_type": "markdown",
   "metadata": {},
   "source": [
    "#### Saving Pre-processed Data "
   ]
  },
  {
   "cell_type": "code",
   "execution_count": 31,
   "metadata": {
    "scrolled": true
   },
   "outputs": [],
   "source": [
    "np.save('Xtrain.npy', Xtrain)\n",
    "np.save('Xtest.npy', Xtest)\n",
    "np.save('Ytrain.npy', Ytrain)\n",
    "np.save('Ytest.npy', Ytest)"
   ]
  },
  {
   "cell_type": "markdown",
   "metadata": {},
   "source": [
    "### Model Building"
   ]
  },
  {
   "cell_type": "code",
   "execution_count": 33,
   "metadata": {},
   "outputs": [],
   "source": [
    "# Load training Data\n",
    "X = np.load('Xtrain.npy')\n",
    "Y = np.load('Ytrain.npy')"
   ]
  },
  {
   "cell_type": "code",
   "execution_count": 36,
   "metadata": {},
   "outputs": [],
   "source": [
    "# Train Test Split\n",
    "X_train, X_valid, Y_train, Y_valid = train_test_split(X, Y, test_size=0.3, random_state=42)"
   ]
  },
  {
   "cell_type": "code",
   "execution_count": 43,
   "metadata": {},
   "outputs": [],
   "source": [
    "# Get indicator variables\n",
    "Y_train_ind = y2indicator(Y_train)\n",
    "Y_valid_ind = y2indicator(Y_valid)"
   ]
  },
  {
   "cell_type": "code",
   "execution_count": 103,
   "metadata": {},
   "outputs": [
    {
     "data": {
      "image/png": "[encoded data removed]",
      "text/plain": [
       "<Figure size 432x288 with 1 Axes>"
      ]
     },
     "metadata": {},
     "output_type": "display_data"
    },
    {
     "name": "stdout",
     "output_type": "stream",
     "text": [
      "Corresponding Label =  22\n",
      "Corresponding Character =  ब\n"
     ]
    }
   ],
   "source": [
    "# Viewing the Devanagiri characters from the training set and their corresponding labels\n",
    "im = 1\n",
    "show_image(X_train[im])\n",
    "print(\"Corresponding Label = \",Y_train[im])\n",
    "print(\"Corresponding Character = \",devchar[Y_train[im]])"
   ]
  },
  {
   "cell_type": "code",
   "execution_count": 45,
   "metadata": {},
   "outputs": [
    {
     "data": {
      "text/plain": [
       "(54740, 32, 32, 1)"
      ]
     },
     "execution_count": 45,
     "metadata": {},
     "output_type": "execute_result"
    }
   ],
   "source": [
    "X_train.shape"
   ]
  },
  {
   "cell_type": "code",
   "execution_count": 46,
   "metadata": {},
   "outputs": [
    {
     "data": {
      "text/plain": [
       "(54740, 46)"
      ]
     },
     "execution_count": 46,
     "metadata": {},
     "output_type": "execute_result"
    }
   ],
   "source": [
    "Y_train_ind.shape"
   ]
  },
  {
   "cell_type": "markdown",
   "metadata": {},
   "source": [
    "#### Building and Training the Network"
   ]
  },
  {
   "cell_type": "code",
   "execution_count": 92,
   "metadata": {},
   "outputs": [
    {
     "name": "stdout",
     "output_type": "stream",
     "text": [
      "Cost / err at iteration i=0, j=0: 89374.461 / 0.964\n",
      "Cost / err at iteration i=0, j=10: 84483.565 / 0.852\n",
      "Cost / err at iteration i=0, j=20: 63265.424 / 0.721\n",
      "Cost / err at iteration i=0, j=30: 41018.942 / 0.505\n",
      "Cost / err at iteration i=0, j=40: 27519.201 / 0.348\n",
      "Cost / err at iteration i=0, j=50: 21195.199 / 0.274\n",
      "Cost / err at iteration i=0, j=60: 17074.170 / 0.228\n",
      "Cost / err at iteration i=0, j=70: 14548.750 / 0.194\n",
      "Cost / err at iteration i=0, j=80: 13315.504 / 0.181\n",
      "Cost / err at iteration i=0, j=90: 11566.471 / 0.158\n",
      "Cost / err at iteration i=1, j=0: 10825.915 / 0.149\n",
      "Cost / err at iteration i=1, j=10: 10066.752 / 0.143\n",
      "Cost / err at iteration i=1, j=20: 9940.145 / 0.142\n",
      "Cost / err at iteration i=1, j=30: 9421.448 / 0.137\n",
      "Cost / err at iteration i=1, j=40: 8600.336 / 0.122\n",
      "Cost / err at iteration i=1, j=50: 8051.647 / 0.115\n",
      "Cost / err at iteration i=1, j=60: 7763.631 / 0.111\n",
      "Cost / err at iteration i=1, j=70: 8312.553 / 0.119\n",
      "Cost / err at iteration i=1, j=80: 6774.780 / 0.099\n",
      "Cost / err at iteration i=1, j=90: 6618.538 / 0.097\n",
      "Cost / err at iteration i=2, j=0: 6961.103 / 0.102\n",
      "Cost / err at iteration i=2, j=10: 6539.911 / 0.097\n",
      "Cost / err at iteration i=2, j=20: 6600.264 / 0.096\n",
      "Cost / err at iteration i=2, j=30: 6752.326 / 0.099\n",
      "Cost / err at iteration i=2, j=40: 6949.334 / 0.099\n",
      "Cost / err at iteration i=2, j=50: 6554.525 / 0.098\n",
      "Cost / err at iteration i=2, j=60: 6627.965 / 0.094\n",
      "Cost / err at iteration i=2, j=70: 6232.232 / 0.088\n",
      "Cost / err at iteration i=2, j=80: 6026.358 / 0.088\n",
      "Cost / err at iteration i=2, j=90: 5854.183 / 0.086\n",
      "Cost / err at iteration i=3, j=0: 5609.884 / 0.084\n",
      "Cost / err at iteration i=3, j=10: 5829.290 / 0.084\n",
      "Cost / err at iteration i=3, j=20: 6161.620 / 0.087\n",
      "Cost / err at iteration i=3, j=30: 6028.929 / 0.086\n",
      "Cost / err at iteration i=3, j=40: 6694.297 / 0.094\n",
      "Cost / err at iteration i=3, j=50: 5823.724 / 0.083\n",
      "Cost / err at iteration i=3, j=60: 5782.076 / 0.084\n",
      "Cost / err at iteration i=3, j=70: 5403.227 / 0.079\n",
      "Cost / err at iteration i=3, j=80: 5950.511 / 0.082\n",
      "Cost / err at iteration i=3, j=90: 5774.837 / 0.081\n",
      "Cost / err at iteration i=4, j=0: 6894.215 / 0.092\n",
      "Cost / err at iteration i=4, j=10: 5762.005 / 0.081\n",
      "Cost / err at iteration i=4, j=20: 6016.456 / 0.084\n",
      "Cost / err at iteration i=4, j=30: 5647.091 / 0.079\n",
      "Cost / err at iteration i=4, j=40: 5693.638 / 0.079\n",
      "Cost / err at iteration i=4, j=50: 5866.067 / 0.081\n",
      "Cost / err at iteration i=4, j=60: 5999.988 / 0.084\n",
      "Cost / err at iteration i=4, j=70: 5381.040 / 0.077\n",
      "Cost / err at iteration i=4, j=80: 5120.893 / 0.073\n",
      "Cost / err at iteration i=4, j=90: 6612.002 / 0.086\n",
      "Cost / err at iteration i=5, j=0: 5773.982 / 0.079\n",
      "Cost / err at iteration i=5, j=10: 6383.849 / 0.084\n",
      "Cost / err at iteration i=5, j=20: 5700.745 / 0.080\n",
      "Cost / err at iteration i=5, j=30: 5655.424 / 0.077\n",
      "Cost / err at iteration i=5, j=40: 5679.710 / 0.076\n",
      "Cost / err at iteration i=5, j=50: 6407.061 / 0.085\n",
      "Cost / err at iteration i=5, j=60: 5869.797 / 0.080\n",
      "Cost / err at iteration i=5, j=70: 5427.864 / 0.073\n",
      "Cost / err at iteration i=5, j=80: 5056.247 / 0.072\n",
      "Cost / err at iteration i=5, j=90: 5201.121 / 0.070\n",
      "Cost / err at iteration i=6, j=0: 5425.580 / 0.073\n",
      "Cost / err at iteration i=6, j=10: 6049.443 / 0.074\n",
      "Cost / err at iteration i=6, j=20: 6350.733 / 0.082\n",
      "Cost / err at iteration i=6, j=30: 5859.874 / 0.078\n",
      "Cost / err at iteration i=6, j=40: 5511.182 / 0.072\n",
      "Cost / err at iteration i=6, j=50: 5734.699 / 0.074\n",
      "Cost / err at iteration i=6, j=60: 6047.504 / 0.075\n",
      "Cost / err at iteration i=6, j=70: 6168.431 / 0.079\n",
      "Cost / err at iteration i=6, j=80: 5921.189 / 0.075\n",
      "Cost / err at iteration i=6, j=90: 5247.780 / 0.069\n",
      "Cost / err at iteration i=7, j=0: 5588.440 / 0.071\n",
      "Cost / err at iteration i=7, j=10: 5678.353 / 0.071\n",
      "Cost / err at iteration i=7, j=20: 6382.743 / 0.077\n",
      "Cost / err at iteration i=7, j=30: 6416.124 / 0.080\n",
      "Cost / err at iteration i=7, j=40: 6432.910 / 0.078\n",
      "Cost / err at iteration i=7, j=50: 6665.748 / 0.079\n",
      "Cost / err at iteration i=7, j=60: 6769.052 / 0.082\n",
      "Cost / err at iteration i=7, j=70: 6260.686 / 0.074\n",
      "Cost / err at iteration i=7, j=80: 6059.925 / 0.074\n",
      "Cost / err at iteration i=7, j=90: 6068.834 / 0.075\n",
      "Cost / err at iteration i=8, j=0: 5442.956 / 0.070\n",
      "Cost / err at iteration i=8, j=10: 6595.234 / 0.073\n",
      "Cost / err at iteration i=8, j=20: 6466.491 / 0.074\n",
      "Cost / err at iteration i=8, j=30: 6722.482 / 0.080\n",
      "Cost / err at iteration i=8, j=40: 5673.964 / 0.073\n",
      "Cost / err at iteration i=8, j=50: 5607.283 / 0.070\n",
      "Cost / err at iteration i=8, j=60: 5877.457 / 0.070\n",
      "Cost / err at iteration i=8, j=70: 6570.231 / 0.075\n",
      "Cost / err at iteration i=8, j=80: 6339.095 / 0.075\n",
      "Cost / err at iteration i=8, j=90: 5507.843 / 0.071\n",
      "Cost / err at iteration i=9, j=0: 6364.985 / 0.075\n",
      "Cost / err at iteration i=9, j=10: 7104.399 / 0.077\n",
      "Cost / err at iteration i=9, j=20: 6330.044 / 0.073\n",
      "Cost / err at iteration i=9, j=30: 6757.916 / 0.079\n",
      "Cost / err at iteration i=9, j=40: 6375.523 / 0.075\n",
      "Cost / err at iteration i=9, j=50: 5718.681 / 0.070\n",
      "Cost / err at iteration i=9, j=60: 5505.403 / 0.063\n",
      "Cost / err at iteration i=9, j=70: 5670.847 / 0.066\n",
      "Cost / err at iteration i=9, j=80: 5898.372 / 0.069\n",
      "Cost / err at iteration i=9, j=90: 5815.616 / 0.072\n",
      "Cost / err at iteration i=10, j=0: 5664.496 / 0.067\n",
      "Cost / err at iteration i=10, j=10: 7669.203 / 0.080\n",
      "Cost / err at iteration i=10, j=20: 7190.492 / 0.082\n",
      "Cost / err at iteration i=10, j=30: 6671.476 / 0.077\n",
      "Cost / err at iteration i=10, j=40: 7322.126 / 0.078\n",
      "Cost / err at iteration i=10, j=50: 5982.188 / 0.068\n",
      "Cost / err at iteration i=10, j=60: 6080.800 / 0.065\n",
      "Cost / err at iteration i=10, j=70: 7051.504 / 0.072\n",
      "Cost / err at iteration i=10, j=80: 6392.223 / 0.071\n",
      "Cost / err at iteration i=10, j=90: 5674.686 / 0.069\n",
      "Cost / err at iteration i=11, j=0: 6402.438 / 0.075\n",
      "Cost / err at iteration i=11, j=10: 6274.813 / 0.070\n",
      "Cost / err at iteration i=11, j=20: 6155.329 / 0.068\n",
      "Cost / err at iteration i=11, j=30: 6818.680 / 0.071\n",
      "Cost / err at iteration i=11, j=40: 5790.863 / 0.067\n",
      "Cost / err at iteration i=11, j=50: 6060.824 / 0.070\n",
      "Cost / err at iteration i=11, j=60: 6757.029 / 0.071\n",
      "Cost / err at iteration i=11, j=70: 6390.072 / 0.068\n",
      "Cost / err at iteration i=11, j=80: 6787.303 / 0.071\n",
      "Cost / err at iteration i=11, j=90: 7016.880 / 0.073\n",
      "Cost / err at iteration i=12, j=0: 6403.409 / 0.071\n",
      "Cost / err at iteration i=12, j=10: 6853.248 / 0.069\n",
      "Cost / err at iteration i=12, j=20: 6580.529 / 0.066\n",
      "Cost / err at iteration i=12, j=30: 6263.381 / 0.067\n",
      "Cost / err at iteration i=12, j=40: 6234.543 / 0.067\n",
      "Cost / err at iteration i=12, j=50: 6070.531 / 0.069\n",
      "Cost / err at iteration i=12, j=60: 6051.792 / 0.068\n",
      "Cost / err at iteration i=12, j=70: 7012.217 / 0.069\n",
      "Cost / err at iteration i=12, j=80: 7181.840 / 0.073\n",
      "Cost / err at iteration i=12, j=90: 6983.215 / 0.073\n",
      "Cost / err at iteration i=13, j=0: 6493.923 / 0.071\n",
      "Cost / err at iteration i=13, j=10: 7744.433 / 0.073\n",
      "Cost / err at iteration i=13, j=20: 6361.242 / 0.065\n",
      "Cost / err at iteration i=13, j=30: 6249.122 / 0.066\n",
      "Cost / err at iteration i=13, j=40: 6870.543 / 0.072\n",
      "Cost / err at iteration i=13, j=50: 6853.853 / 0.071\n",
      "Cost / err at iteration i=13, j=60: 7161.821 / 0.071\n",
      "Cost / err at iteration i=13, j=70: 7007.139 / 0.069\n",
      "Cost / err at iteration i=13, j=80: 7097.420 / 0.069\n",
      "Cost / err at iteration i=13, j=90: 7275.379 / 0.068\n",
      "Cost / err at iteration i=14, j=0: 8319.299 / 0.072\n",
      "Cost / err at iteration i=14, j=10: 7206.171 / 0.067\n",
      "Cost / err at iteration i=14, j=20: 6946.470 / 0.072\n",
      "Cost / err at iteration i=14, j=30: 7421.766 / 0.071\n",
      "Cost / err at iteration i=14, j=40: 7092.576 / 0.070\n",
      "Cost / err at iteration i=14, j=50: 6400.020 / 0.069\n",
      "Cost / err at iteration i=14, j=60: 6381.398 / 0.070\n",
      "Cost / err at iteration i=14, j=70: 7030.171 / 0.064\n",
      "Cost / err at iteration i=14, j=80: 6480.048 / 0.062\n",
      "Cost / err at iteration i=14, j=90: 6082.261 / 0.063\n",
      "Cost / err at iteration i=15, j=0: 6866.576 / 0.065\n",
      "Cost / err at iteration i=15, j=10: 7170.841 / 0.069\n",
      "Cost / err at iteration i=15, j=20: 7656.482 / 0.067\n",
      "Cost / err at iteration i=15, j=30: 7772.558 / 0.072\n",
      "Cost / err at iteration i=15, j=40: 7520.424 / 0.072\n",
      "Cost / err at iteration i=15, j=50: 7148.192 / 0.074\n",
      "Cost / err at iteration i=15, j=60: 6515.135 / 0.068\n"
     ]
    },
    {
     "name": "stdout",
     "output_type": "stream",
     "text": [
      "Cost / err at iteration i=15, j=70: 8303.307 / 0.068\n",
      "Cost / err at iteration i=15, j=80: 7062.927 / 0.065\n",
      "Cost / err at iteration i=15, j=90: 6550.802 / 0.062\n",
      "Cost / err at iteration i=16, j=0: 7061.376 / 0.064\n",
      "Cost / err at iteration i=16, j=10: 6804.331 / 0.065\n",
      "Cost / err at iteration i=16, j=20: 6554.082 / 0.063\n",
      "Cost / err at iteration i=16, j=30: 8195.938 / 0.074\n",
      "Cost / err at iteration i=16, j=40: 6966.380 / 0.068\n",
      "Cost / err at iteration i=16, j=50: 7066.297 / 0.072\n",
      "Cost / err at iteration i=16, j=60: 7270.636 / 0.069\n",
      "Cost / err at iteration i=16, j=70: 8423.226 / 0.071\n",
      "Cost / err at iteration i=16, j=80: 7322.121 / 0.065\n",
      "Cost / err at iteration i=16, j=90: 6968.938 / 0.066\n",
      "Cost / err at iteration i=17, j=0: 6950.387 / 0.065\n",
      "Cost / err at iteration i=17, j=10: 7177.585 / 0.067\n",
      "Cost / err at iteration i=17, j=20: 7162.780 / 0.064\n",
      "Cost / err at iteration i=17, j=30: 7647.607 / 0.070\n",
      "Cost / err at iteration i=17, j=40: 7546.986 / 0.071\n",
      "Cost / err at iteration i=17, j=50: 7301.096 / 0.074\n",
      "Cost / err at iteration i=17, j=60: 6600.861 / 0.063\n",
      "Cost / err at iteration i=17, j=70: 7070.405 / 0.064\n",
      "Cost / err at iteration i=17, j=80: 7378.538 / 0.062\n",
      "Cost / err at iteration i=17, j=90: 6771.413 / 0.064\n",
      "Cost / err at iteration i=18, j=0: 6964.196 / 0.062\n",
      "Cost / err at iteration i=18, j=10: 7438.909 / 0.068\n",
      "Cost / err at iteration i=18, j=20: 7807.911 / 0.062\n",
      "Cost / err at iteration i=18, j=30: 8819.798 / 0.071\n",
      "Cost / err at iteration i=18, j=40: 7515.951 / 0.064\n",
      "Cost / err at iteration i=18, j=50: 8786.460 / 0.075\n",
      "Cost / err at iteration i=18, j=60: 8548.888 / 0.074\n",
      "Cost / err at iteration i=18, j=70: 8059.041 / 0.070\n",
      "Cost / err at iteration i=18, j=80: 6956.772 / 0.065\n",
      "Cost / err at iteration i=18, j=90: 7003.586 / 0.063\n",
      "Cost / err at iteration i=19, j=0: 6884.188 / 0.061\n",
      "Cost / err at iteration i=19, j=10: 7071.301 / 0.063\n",
      "Cost / err at iteration i=19, j=20: 8698.348 / 0.067\n",
      "Cost / err at iteration i=19, j=30: 8502.906 / 0.068\n",
      "Cost / err at iteration i=19, j=40: 7810.568 / 0.070\n",
      "Cost / err at iteration i=19, j=50: 8804.289 / 0.073\n",
      "Cost / err at iteration i=19, j=60: 7525.574 / 0.065\n",
      "Cost / err at iteration i=19, j=70: 6937.022 / 0.060\n",
      "Cost / err at iteration i=19, j=80: 7587.589 / 0.066\n",
      "Cost / err at iteration i=19, j=90: 6742.280 / 0.063\n",
      "Final Validation Accuracy =  93.696 %\n",
      "Elapsed time: 2:07:42.657512\n"
     ]
    },
    {
     "data": {
      "image/png": "[encoded data removed]",
      "text/plain": [
       "<Figure size 432x288 with 1 Axes>"
      ]
     },
     "metadata": {},
     "output_type": "display_data"
    },
    {
     "name": "stdout",
     "output_type": "stream",
     "text": [
      "Final Test Accuracy =  94.225 %\n"
     ]
    }
   ],
   "source": [
    "# Gradient descent params\n",
    "\n",
    "N = X_train.shape[0]\n",
    "M = 500\n",
    "K = len(set(Y_train))\n",
    "\n",
    "epochs = 20\n",
    "print_period = 10\n",
    "batch_sz = 595\n",
    "n_batches = N // batch_sz\n",
    "reg = 0.001\n",
    "\n",
    "# Initialise Variables\n",
    "W1_shape = (5,5,1,10) # (HWFinFout)\n",
    "W1_init = init_filter(W1_shape)\n",
    "b1_init = np.zeros(W1_shape[-1],dtype=np.float32)\n",
    "\n",
    "W2_shape = (5,5,10,30) # (HWFinFout)\n",
    "W2_init = init_filter(W2_shape)\n",
    "b2_init = np.zeros(W2_shape[-1],dtype=np.float32)\n",
    "\n",
    "W3_init, b3_init = init_weight_and_bias(W2_shape[-1]*5*5,M)\n",
    "\n",
    "W4_init, b4_init = init_weight_and_bias(M,K)\n",
    "\n",
    "# Set Placeholders & Variables \n",
    "\n",
    "tfX = tf.placeholder(dtype=tf.float32,shape=(batch_sz,32,32,1),name=\"X\")\n",
    "tfT = tf.placeholder(dtype=tf.float32,shape=(batch_sz,K),name=\"T\")\n",
    "\n",
    "W1 = tf.Variable(initial_value=W1_init,dtype=tf.float32)\n",
    "b1 = tf.Variable(initial_value=b1_init,dtype=tf.float32)\n",
    "W2 = tf.Variable(initial_value=W2_init,dtype=tf.float32)\n",
    "b2 = tf.Variable(initial_value=b2_init,dtype=tf.float32)\n",
    "W3 = tf.Variable(initial_value=W3_init,dtype=tf.float32)\n",
    "b3 = tf.Variable(initial_value=b3_init,dtype=tf.float32)\n",
    "W4 = tf.Variable(initial_value=W4_init,dtype=tf.float32)\n",
    "b4 = tf.Variable(initial_value=b4_init,dtype=tf.float32)\n",
    "\n",
    "Z1 = convpool(tfX,W1,b1)\n",
    "Z2 = convpool(Z1,W2,b2)\n",
    "Z2_shape = Z2.get_shape().as_list()\n",
    "Z2f = tf.reshape(Z2,[Z2_shape[0],np.prod(Z2_shape[1:])]) # NHWC => N x (HWC)\n",
    "Z3 = tf.nn.relu(tf.add(tf.matmul(Z2f,W3),b3))\n",
    "Yish = tf.add(tf.matmul(Z3,W4),b4)\n",
    "\n",
    "cost = tf.reduce_sum(tf.nn.softmax_cross_entropy_with_logits_v2(labels=tfT,logits=Yish))\n",
    "\n",
    "regularizer = (tf.nn.l2_loss(W1) + \n",
    "               tf.nn.l2_loss(W2) + \n",
    "               tf.nn.l2_loss(W3) + \n",
    "               tf.nn.l2_loss(W4))\n",
    "\n",
    "# Add L2 regularisation\n",
    "reg_cost = (cost + reg * regularizer)\n",
    "\n",
    "\n",
    "train_op = tf.train.RMSPropOptimizer(learning_rate=1e-3,decay=0.99,momentum=0.9).minimize(reg_cost)\n",
    "predict_op = tf.argmax(Yish,axis=1)\n",
    "\n",
    "t0 = datetime.now()\n",
    "costs = []\n",
    "\n",
    "init = tf.global_variables_initializer()\n",
    "\n",
    "saver = tf.train.Saver()\n",
    "\n",
    "with tf.Session() as sess:\n",
    "    sess.run(init)\n",
    "    for i in range(epochs):\n",
    "        for j in range(n_batches):\n",
    "            Xbatch = X_train[j*batch_sz:j*batch_sz+batch_sz]\n",
    "            Ybatch = Y_train_ind[j*batch_sz:j*batch_sz+batch_sz]\n",
    "            sess.run(train_op,feed_dict={tfX:Xbatch,tfT:Ybatch})\n",
    "            \n",
    "            if j % print_period == 0:\n",
    "                prediction = np.zeros(len(X_valid))\n",
    "                valid_cost = 0\n",
    "                for k in range(len(X_valid)//batch_sz):\n",
    "                    Xvbatch = X_valid[k*batch_sz:k*batch_sz+batch_sz]\n",
    "                    Yvbatch = Y_valid_ind[k*batch_sz:k*batch_sz+batch_sz]\n",
    "                    prediction[k*batch_sz:k*batch_sz+batch_sz] = sess.run(predict_op,feed_dict={tfX:Xvbatch})\n",
    "                    batch_cost = sess.run(cost,feed_dict={tfX:Xvbatch,tfT:Yvbatch})\n",
    "                    valid_cost += batch_cost\n",
    "                error = error_rate(targets=Y_valid,predictions=prediction)\n",
    "                print(\"Cost / err at iteration i=%d, j=%d: %.3f / %.3f\" % (i, j, valid_cost, error))\n",
    "                costs.append(valid_cost)\n",
    "                \n",
    "    print(\"Final Validation Accuracy = \", str(round((1-error)*100,3)) + \" %\")\n",
    "    \n",
    "    # Create directory if necessry to save model\n",
    "    if os.path.isdir('Models') is False:\n",
    "        os.mkdir('Models')\n",
    "    \n",
    "    saver.save(sess,'Models/my_model.ckpt')\n",
    "    \n",
    "    print(\"Elapsed time:\", (datetime.now() - t0))\n",
    "    plt.plot(costs)\n",
    "    plt.show()        \n",
    "    \n",
    "    \n",
    "    # Load test data\n",
    "    X_test = np.load('Xtest.npy')\n",
    "    Y_test = np.load('Ytest.npy')\n",
    "    \n",
    "    n_batches_test = X_test.shape[0] // batch_sz # 58 batches\n",
    "    \n",
    "    # Get predictions for test set\n",
    "    results = np.array([0]*X_test.shape[0])\n",
    "    for b in range(n_batches_test):\n",
    "        Xtbatch = X_test[b*batch_sz:b*batch_sz+batch_sz]\n",
    "        logits = Yish.eval(feed_dict={tfX:Xtbatch})\n",
    "        preds = tf.argmax(logits,axis=1)\n",
    "        results[b*batch_sz:b*batch_sz+batch_sz] = preds.eval()\n",
    "        \n",
    "    print(\"Final Test Accuracy = \", str(round((1-error_rate(Y_test,results))*100,3)) + \" %\")"
   ]
  },
  {
   "cell_type": "markdown",
   "metadata": {},
   "source": [
    "### Inference"
   ]
  },
  {
   "cell_type": "markdown",
   "metadata": {},
   "source": [
    "Keep running the cell below to view random images of Devanagiri characters from the test set and get the corresponding labels predicted by the trained neural network"
   ]
  },
  {
   "cell_type": "code",
   "execution_count": 106,
   "metadata": {},
   "outputs": [
    {
     "data": {
      "image/png": "[encoded data removed]",
      "text/plain": [
       "<Figure size 432x288 with 1 Axes>"
      ]
     },
     "metadata": {},
     "output_type": "display_data"
    },
    {
     "name": "stdout",
     "output_type": "stream",
     "text": [
      "Predicted Label Class =  15\n",
      "Predicted Character =  त\n"
     ]
    }
   ],
   "source": [
    "# Viewing the Devanagiri characters from the test set and their predicted labels\n",
    "im = np.random.randint(0,(X_test.shape[0] - 1))\n",
    "show_image(X_test[im])\n",
    "print(\"Predicted Label Class = \",results[im])\n",
    "print(\"Predicted Character = \",devchar[results[im]])"
   ]
  }
 ],
 "metadata": {
  "kernelspec": {
   "display_name": "Python 3",
   "language": "python",
   "name": "python3"
  },
  "language_info": {
   "codemirror_mode": {
    "name": "ipython",
    "version": 3
   },
   "file_extension": ".py",
   "mimetype": "text/x-python",
   "name": "python",
   "nbconvert_exporter": "python",
   "pygments_lexer": "ipython3",
   "version": "3.6.7"
  }
 },
 "nbformat": 4,
 "nbformat_minor": 2
}
